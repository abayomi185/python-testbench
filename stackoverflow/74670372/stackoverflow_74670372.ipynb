{
 "cells": [
  {
   "cell_type": "code",
   "execution_count": 4,
   "metadata": {},
   "outputs": [],
   "source": [
    "import pandas as pd"
   ]
  },
  {
   "cell_type": "code",
   "execution_count": 22,
   "metadata": {},
   "outputs": [
    {
     "data": {
      "text/html": [
       "<div>\n",
       "<style scoped>\n",
       "    .dataframe tbody tr th:only-of-type {\n",
       "        vertical-align: middle;\n",
       "    }\n",
       "\n",
       "    .dataframe tbody tr th {\n",
       "        vertical-align: top;\n",
       "    }\n",
       "\n",
       "    .dataframe thead th {\n",
       "        text-align: right;\n",
       "    }\n",
       "</style>\n",
       "<table border=\"1\" class=\"dataframe\">\n",
       "  <thead>\n",
       "    <tr style=\"text-align: right;\">\n",
       "      <th></th>\n",
       "      <th>name</th>\n",
       "      <th>lat</th>\n",
       "      <th>long</th>\n",
       "    </tr>\n",
       "  </thead>\n",
       "  <tbody>\n",
       "    <tr>\n",
       "      <th>0</th>\n",
       "      <td>Veronica Session</td>\n",
       "      <td>0.200081</td>\n",
       "      <td>0.246723</td>\n",
       "    </tr>\n",
       "    <tr>\n",
       "      <th>1</th>\n",
       "      <td>Lynne Donahoo</td>\n",
       "      <td>0.775020</td>\n",
       "      <td>-1.437292</td>\n",
       "    </tr>\n",
       "    <tr>\n",
       "      <th>2</th>\n",
       "      <td>Debbie Hanley</td>\n",
       "      <td>0.260559</td>\n",
       "      <td>-1.594263</td>\n",
       "    </tr>\n",
       "    <tr>\n",
       "      <th>3</th>\n",
       "      <td>Lisandra Earls</td>\n",
       "      <td>1.203430</td>\n",
       "      <td>-2.425601</td>\n",
       "    </tr>\n",
       "    <tr>\n",
       "      <th>4</th>\n",
       "      <td>Sybil Leef</td>\n",
       "      <td>-0.029293</td>\n",
       "      <td>0.592702</td>\n",
       "    </tr>\n",
       "  </tbody>\n",
       "</table>\n",
       "</div>"
      ],
      "text/plain": [
       "               name       lat      long\n",
       "0  Veronica Session  0.200081  0.246723\n",
       "1     Lynne Donahoo  0.775020 -1.437292\n",
       "2     Debbie Hanley  0.260559 -1.594263\n",
       "3    Lisandra Earls  1.203430 -2.425601\n",
       "4        Sybil Leef -0.029293  0.592702"
      ]
     },
     "execution_count": 22,
     "metadata": {},
     "output_type": "execute_result"
    }
   ],
   "source": [
    "df = pd.read_csv('stackoverflow_74670372.csv')\n",
    "df"
   ]
  },
  {
   "cell_type": "code",
   "execution_count": 6,
   "metadata": {},
   "outputs": [],
   "source": [
    "def haversine(lat1, lon1, lat2, lon2, to_radians=True, earth_radius=6371):\n",
    "    \"\"\"\n",
    "    slightly modified version: of http://stackoverflow.com/a/29546836/2901002\n",
    "\n",
    "    Calculate the great circle distance between two points\n",
    "    on the earth (specified in decimal degrees or in radians)\n",
    "\n",
    "    All (lat, lon) coordinates must have numeric dtypes and be of equal length.\n",
    "\n",
    "    \"\"\"\n",
    "    if to_radians:\n",
    "        lat1, lon1, lat2, lon2 = np.radians([lat1, lon1, lat2, lon2])\n",
    "\n",
    "    a = np.sin((lat2-lat1)/2.0)**2 + \\\n",
    "        np.cos(lat1) * np.cos(lat2) * np.sin((lon2-lon1)/2.0)**2\n",
    "\n",
    "    return earth_radius * 2 * np.arcsin(np.sqrt(a))"
   ]
  },
  {
   "cell_type": "code",
   "execution_count": 25,
   "metadata": {},
   "outputs": [
    {
     "ename": "NameError",
     "evalue": "name 'np' is not defined",
     "output_type": "error",
     "traceback": [
      "\u001b[0;31m---------------------------------------------------------------------------\u001b[0m",
      "\u001b[0;31mNameError\u001b[0m                                 Traceback (most recent call last)",
      "Cell \u001b[0;32mIn[25], line 2\u001b[0m\n\u001b[1;32m      1\u001b[0m df[\u001b[39m'\u001b[39m\u001b[39mdist\u001b[39m\u001b[39m'\u001b[39m] \u001b[39m=\u001b[39m \\\n\u001b[0;32m----> 2\u001b[0m     haversine(df\u001b[39m.\u001b[39;49mlat\u001b[39m.\u001b[39;49mshift(), df\u001b[39m.\u001b[39;49mlong\u001b[39m.\u001b[39;49mshift(),\n\u001b[1;32m      3\u001b[0m                  df\u001b[39m.\u001b[39;49mloc[\u001b[39m1\u001b[39;49m:, \u001b[39m'\u001b[39;49m\u001b[39mlat\u001b[39;49m\u001b[39m'\u001b[39;49m], df\u001b[39m.\u001b[39;49mloc[\u001b[39m1\u001b[39;49m:, \u001b[39m'\u001b[39;49m\u001b[39mlong\u001b[39;49m\u001b[39m'\u001b[39;49m])\n",
      "Cell \u001b[0;32mIn[6], line 12\u001b[0m, in \u001b[0;36mhaversine\u001b[0;34m(lat1, lon1, lat2, lon2, to_radians, earth_radius)\u001b[0m\n\u001b[1;32m      2\u001b[0m \u001b[39m\"\"\"\u001b[39;00m\n\u001b[1;32m      3\u001b[0m \u001b[39mslightly modified version: of http://stackoverflow.com/a/29546836/2901002\u001b[39;00m\n\u001b[1;32m      4\u001b[0m \n\u001b[0;32m   (...)\u001b[0m\n\u001b[1;32m      9\u001b[0m \n\u001b[1;32m     10\u001b[0m \u001b[39m\"\"\"\u001b[39;00m\n\u001b[1;32m     11\u001b[0m \u001b[39mif\u001b[39;00m to_radians:\n\u001b[0;32m---> 12\u001b[0m     lat1, lon1, lat2, lon2 \u001b[39m=\u001b[39m np\u001b[39m.\u001b[39mradians([lat1, lon1, lat2, lon2])\n\u001b[1;32m     14\u001b[0m a \u001b[39m=\u001b[39m np\u001b[39m.\u001b[39msin((lat2\u001b[39m-\u001b[39mlat1)\u001b[39m/\u001b[39m\u001b[39m2.0\u001b[39m)\u001b[39m*\u001b[39m\u001b[39m*\u001b[39m\u001b[39m2\u001b[39m \u001b[39m+\u001b[39m \\\n\u001b[1;32m     15\u001b[0m     np\u001b[39m.\u001b[39mcos(lat1) \u001b[39m*\u001b[39m np\u001b[39m.\u001b[39mcos(lat2) \u001b[39m*\u001b[39m np\u001b[39m.\u001b[39msin((lon2\u001b[39m-\u001b[39mlon1)\u001b[39m/\u001b[39m\u001b[39m2.0\u001b[39m)\u001b[39m*\u001b[39m\u001b[39m*\u001b[39m\u001b[39m2\u001b[39m\n\u001b[1;32m     17\u001b[0m \u001b[39mreturn\u001b[39;00m earth_radius \u001b[39m*\u001b[39m \u001b[39m2\u001b[39m \u001b[39m*\u001b[39m np\u001b[39m.\u001b[39marcsin(np\u001b[39m.\u001b[39msqrt(a))\n",
      "\u001b[0;31mNameError\u001b[0m: name 'np' is not defined"
     ]
    }
   ],
   "source": [
    "df['dist'] = \\\n",
    "    haversine(df.lat.shift(), df.long.shift(),\n",
    "                 df.loc[1:, 'lat'], df.loc[1:, 'long'])"
   ]
  }
 ],
 "metadata": {
  "kernelspec": {
   "display_name": "Python 3.9.13 ('python-testbench-hwqv')",
   "language": "python",
   "name": "python3"
  },
  "language_info": {
   "codemirror_mode": {
    "name": "ipython",
    "version": 3
   },
   "file_extension": ".py",
   "mimetype": "text/x-python",
   "name": "python",
   "nbconvert_exporter": "python",
   "pygments_lexer": "ipython3",
   "version": "3.9.13"
  },
  "orig_nbformat": 4,
  "vscode": {
   "interpreter": {
    "hash": "1864174c7f5bc3ade8955e727c97de677c338e72a0c85b5ad61865ac83228667"
   }
  }
 },
 "nbformat": 4,
 "nbformat_minor": 2
}
